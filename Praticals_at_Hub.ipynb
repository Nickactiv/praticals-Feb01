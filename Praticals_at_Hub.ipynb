{
  "nbformat": 4,
  "nbformat_minor": 0,
  "metadata": {
    "colab": {
      "provenance": [],
      "authorship_tag": "ABX9TyPp16ukJgOiJzymqFJL5nNi",
      "include_colab_link": true
    },
    "kernelspec": {
      "name": "python3",
      "display_name": "Python 3"
    },
    "language_info": {
      "name": "python"
    }
  },
  "cells": [
    {
      "cell_type": "markdown",
      "metadata": {
        "id": "view-in-github",
        "colab_type": "text"
      },
      "source": [
        "<a href=\"https://colab.research.google.com/github/Nickactiv/praticals-Feb01/blob/main/Praticals_at_Hub.ipynb\" target=\"_parent\"><img src=\"https://colab.research.google.com/assets/colab-badge.svg\" alt=\"Open In Colab\"/></a>"
      ]
    },
    {
      "cell_type": "code",
      "execution_count": 1,
      "metadata": {
        "colab": {
          "base_uri": "https://localhost:8080/"
        },
        "id": "n_lf1twvf3Lp",
        "outputId": "474b2d1c-749e-4853-f7f4-6c43a620d45d"
      },
      "outputs": [
        {
          "output_type": "stream",
          "name": "stdout",
          "text": [
            "Hello Leo\n",
            "Hello Marc\n",
            "Hello Philippe\n"
          ]
        }
      ],
      "source": [
        "ListOfUserNames = ['Leo', 'Marc','Philippe']\n",
        "ListOfEmails = ['LeoPark@gmail.com', 'MarcSong@gmail.com', 'PhilippeZango@gmail.com']\n",
        "\n",
        "\n",
        "for position, i in enumerate(ListOfUserNames):\n",
        "         print('Hello ' + i)"
      ]
    },
    {
      "cell_type": "code",
      "source": [
        "ListOfUserNames = ['Leo', 'Marc','Philippe']\n",
        "ListOfEmails = ['LeoPark@gmail.com', 'MarcSong@gmail.com', 'PhilippeZango@gmail.com']\n",
        "\n",
        "\n",
        "for position, i in enumerate(ListOfUserNames):\n",
        "         print(ListOfEmails)"
      ],
      "metadata": {
        "colab": {
          "base_uri": "https://localhost:8080/"
        },
        "id": "Gj0RhNvf3xPX",
        "outputId": "5e1ebe91-0e63-4ba5-d5e5-6dc5d4d4b0cc"
      },
      "execution_count": 2,
      "outputs": [
        {
          "output_type": "stream",
          "name": "stdout",
          "text": [
            "['LeoPark@gmail.com', 'MarcSong@gmail.com', 'PhilippeZango@gmail.com']\n",
            "['LeoPark@gmail.com', 'MarcSong@gmail.com', 'PhilippeZango@gmail.com']\n",
            "['LeoPark@gmail.com', 'MarcSong@gmail.com', 'PhilippeZango@gmail.com']\n"
          ]
        }
      ]
    },
    {
      "cell_type": "code",
      "source": [
        "ListOfUserNames = ['Leo', 'Marc','Philippe']\n",
        "ListOfEmails = ['LeoPark@gmail.com', 'MarcSong@gmail.com', 'PhilippeZango@gmail.com']\n",
        "\n",
        "\n",
        "for position, i in enumerate(ListOfUserNames):\n",
        "         print(i + \" \" + str(position))"
      ],
      "metadata": {
        "colab": {
          "base_uri": "https://localhost:8080/"
        },
        "id": "HS3RGrlo7RK9",
        "outputId": "efdc6b04-2e2c-4f55-fa7c-d5e387e4d580"
      },
      "execution_count": 3,
      "outputs": [
        {
          "output_type": "stream",
          "name": "stdout",
          "text": [
            "Leo 0\n",
            "Marc 1\n",
            "Philippe 2\n"
          ]
        }
      ]
    },
    {
      "cell_type": "code",
      "source": [
        "ListOfUserNames = ['Leo', 'Marc','Philippe']\n",
        "ListOfEmails = ['LeoPark@gmail.com', 'MarcSong@gmail.com', 'PhilippeZango@gmail.com']\n",
        "\n",
        "\n",
        "for position, i in enumerate(ListOfUserNames):\n",
        "         print(i + \" \" + str(position))\n",
        "print(i +\" \" + ListOfEmails[position])"
      ],
      "metadata": {
        "colab": {
          "base_uri": "https://localhost:8080/"
        },
        "id": "WfZob-q--m9D",
        "outputId": "a01a3b85-f1e7-44c8-8813-d0b38267b1e0"
      },
      "execution_count": 4,
      "outputs": [
        {
          "output_type": "stream",
          "name": "stdout",
          "text": [
            "Leo 0\n",
            "Marc 1\n",
            "Philippe 2\n",
            "Philippe PhilippeZango@gmail.com\n"
          ]
        }
      ]
    },
    {
      "cell_type": "code",
      "source": [
        "rightPassword = 'Yassine'\n",
        "userTypedPassword = \"\"\n",
        "\n",
        "while userTypedPassword != rightPassword"
      ],
      "metadata": {
        "id": "_gz4Xkqz9lUh"
      },
      "execution_count": null,
      "outputs": []
    },
    {
      "cell_type": "markdown",
      "source": [],
      "metadata": {
        "id": "0DCf3cGIMgXl"
      }
    },
    {
      "cell_type": "code",
      "source": [
        "\"Algorithm\"\n",
        "\n",
        "List_of_numbers = [1, 2, 3, 4, 5, 6, 7, 8, 9, 22, 34, 54, 56, 67, 78, 89, 101, 102, 103]\n",
        "\n",
        "for i in List_of_numbers:\n",
        "    if i == 2:\n",
        "        print(\"The number is found\")\n",
        "        break\n",
        "\n",
        "print(\"Terminated\")"
      ],
      "metadata": {
        "colab": {
          "base_uri": "https://localhost:8080/"
        },
        "id": "FkibQCDpFM-r",
        "outputId": "a20cb5ca-0e64-427a-ac95-ef03d2f776ad"
      },
      "execution_count": 6,
      "outputs": [
        {
          "output_type": "stream",
          "name": "stdout",
          "text": [
            "The number is found\n",
            "Terminated\n"
          ]
        }
      ]
    },
    {
      "cell_type": "code",
      "source": [
        "\"Binary Search\"\n",
        "\n"
      ],
      "metadata": {
        "id": "RBV7wxUSNNQp"
      },
      "execution_count": null,
      "outputs": []
    },
    {
      "cell_type": "code",
      "source": [
        "\"Define function\"\n",
        "\"Algorithm\"\n",
        "List_of_numbers = [1, 2, 3, 4, 5, 6, 7, 8, 9, 22, 34, 54, 56, 67, 78, 89, 101, 102, 103]\n",
        "\n",
        "def linear_search (List_of_numbers, number):\n",
        "    for i in List_of_numbers:\n",
        "        if i == number:\n",
        "           print(\"The number is found\")\n",
        "           break\n",
        "\n",
        "print(\"Terminated\")\n",
        "\n"
      ],
      "metadata": {
        "colab": {
          "base_uri": "https://localhost:8080/"
        },
        "id": "ZvNdFNXWTdmY",
        "outputId": "8cd08e8e-d1d9-4da7-fdb3-246da1d01eee"
      },
      "execution_count": 13,
      "outputs": [
        {
          "output_type": "stream",
          "name": "stdout",
          "text": [
            "Terminated\n"
          ]
        }
      ]
    },
    {
      "cell_type": "code",
      "source": [
        "\"Define function\"\n",
        "\"Algorithm\"\n",
        "List_of_numbers = [1, 2, 3, 4, 5, 6, 7, 8, 9, 22, 34, 54, 56, 67, 78, 89, 101, 102, 103]\n",
        "\n",
        "def linear_search(number):\n",
        "    for i in List_of_numbers:\n",
        "        if i == number:\n",
        "           print(\"The number is found\")\n",
        "           break\n",
        "\n",
        "print(\"Terminated\")\n",
        "\n"
      ],
      "metadata": {
        "colab": {
          "base_uri": "https://localhost:8080/"
        },
        "id": "x9aDuFI1aJVX",
        "outputId": "89e4a783-3732-4343-b696-edc1ecd19a37"
      },
      "execution_count": 15,
      "outputs": [
        {
          "output_type": "stream",
          "name": "stdout",
          "text": [
            "Terminated\n"
          ]
        }
      ]
    },
    {
      "cell_type": "code",
      "source": [
        "List_of_numbers = [1, 2, 3, 4, 5, 6, 7, 8, 9, 22, 34, 54, 56, 67, 78, 89, 101, 102, 103]\n",
        "linear_search(6.5)\n"
      ],
      "metadata": {
        "id": "6N5Xq_-dZplr"
      },
      "execution_count": 17,
      "outputs": []
    },
    {
      "cell_type": "code",
      "source": [
        "\"Define function\" \"In this case we need both the list of numbers and the number we want\"\n",
        "\"Algorithm\"\n",
        "List_of_numbers = [1, 2, 3, 4, 5, 6, 7, 8, 9, 22, 34, 54, 56, 67, 78, 89, 101, 102, 103]\n",
        "\n",
        "def linear_search (List_of_numbers, number):\n",
        "    for i in List_of_numbers:\n",
        "        if i == number:\n",
        "           print(\"The number is found\")\n",
        "           break\n",
        "\n",
        "print(\"Terminated\")\n",
        "\n"
      ],
      "metadata": {
        "colab": {
          "base_uri": "https://localhost:8080/"
        },
        "id": "USATzfbHcOf6",
        "outputId": "8a08b0fb-8671-42e5-ba30-88784ca3d589"
      },
      "execution_count": 21,
      "outputs": [
        {
          "output_type": "stream",
          "name": "stdout",
          "text": [
            "Terminated\n"
          ]
        }
      ]
    },
    {
      "cell_type": "code",
      "source": [
        "Database = [1, 2, 3, 4, 5, 6, 7, 8, 9, 22, 34, 54, 56, 67, 78, 89, 101, 102, 103]\n",
        "linear_search(Database, 8)"
      ],
      "metadata": {
        "colab": {
          "base_uri": "https://localhost:8080/"
        },
        "id": "3dGAa8C8cfGN",
        "outputId": "82250290-b80e-4d6d-b0ca-85233ac5c4bf"
      },
      "execution_count": 24,
      "outputs": [
        {
          "output_type": "stream",
          "name": "stdout",
          "text": [
            "The number is found\n"
          ]
        }
      ]
    },
    {
      "cell_type": "code",
      "source": [
        "\"Lambda function is a function that doesn't have a name\"\n",
        "\n",
        "\"Recursive function is a function that pop up by itself\"\n"
      ],
      "metadata": {
        "id": "2oQAis4dehmm"
      },
      "execution_count": null,
      "outputs": []
    },
    {
      "cell_type": "code",
      "source": [
        "\"Recursive function\"\n",
        "\"Example\"\n",
        "\n",
        "def  sumAllNumbers(number):\n",
        "      if number == 0:\n",
        "         return number\n",
        "\n",
        "      sum = number + sumAllNumbers(number - 1)\n",
        "\n",
        "      print(sumAllNumbers(5))"
      ],
      "metadata": {
        "id": "NTXXJ1cef4DO"
      },
      "execution_count": 27,
      "outputs": []
    },
    {
      "cell_type": "markdown",
      "source": [],
      "metadata": {
        "id": "jGgRGw3p0P5s"
      }
    }
  ]
}